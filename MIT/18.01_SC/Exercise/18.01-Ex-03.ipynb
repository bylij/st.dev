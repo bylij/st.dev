{
 "cells": [
  {
   "cell_type": "markdown",
   "metadata": {},
   "source": [
    ">https://ocw.mit.edu/courses/18-01sc-single-variable-calculus-fall-2010/resources/mit18_01scf10_ex03prb/"
   ]
  },
  {
   "cell_type": "markdown",
   "metadata": {},
   "source": [
    "### 问题1\n",
    "- $f^\\prime(1)=-10 \\cdot 1+60=50$，一月的账户变动 $50\\gt0$ 表示账户余额增加，因此二月的账户余额将大于一月的账户余额\n"
   ]
  },
  {
   "cell_type": "markdown",
   "metadata": {},
   "source": [
    "### 问题2\n",
    "- $f^\\prime(10)=-10 \\cdot 10+60=-40$，代表十月份账户余额在减少，因此从全年来看账户余额不总是在增加"
   ]
  },
  {
   "cell_type": "markdown",
   "metadata": {},
   "source": [
    "### 问题3\n",
    "- 账户余额函数 $f(t)=-5t^2+60t+120=-5(t-6)^2+300$，可知当 $t=6$ 时即六月份的账户余额最大，此时 $f^\\prime(t=6)=-10 \\cdot 6+60=0$"
   ]
  }
 ],
 "metadata": {
  "language_info": {
   "name": "python"
  }
 },
 "nbformat": 4,
 "nbformat_minor": 2
}
