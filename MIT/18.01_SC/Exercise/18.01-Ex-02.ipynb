{
 "cells": [
  {
   "cell_type": "markdown",
   "metadata": {},
   "source": [
    ">https://ocw.mit.edu/courses/18-01sc-single-variable-calculus-fall-2010/resources/mit18_01scf10_ex02prb/"
   ]
  },
  {
   "cell_type": "markdown",
   "metadata": {},
   "source": [
    "### 问题\n",
    "- $f(x)=|x|$ 在 $x=$ 0 处不存在导数。  \n",
    "几何方面：函数曲线在 $x=$ 0 点不存在切线  \n",
    "定义方面：$\\lim_{\\Delta{x} \\to 0}\\frac{|0+\\Delta{x}|-|0|}{\\Delta{x}}=\\lim_{\\Delta{x} \\to 0}\\frac{|\\Delta{x}|}{\\Delta{x}}$ 极限不存在"
   ]
  }
 ],
 "metadata": {
  "language_info": {
   "name": "python"
  }
 },
 "nbformat": 4,
 "nbformat_minor": 2
}
