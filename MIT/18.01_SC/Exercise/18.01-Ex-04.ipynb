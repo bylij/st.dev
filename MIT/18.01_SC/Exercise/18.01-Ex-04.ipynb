{
 "cells": [
  {
   "cell_type": "markdown",
   "metadata": {},
   "source": [
    ">https://ocw.mit.edu/courses/18-01sc-single-variable-calculus-fall-2010/resources/mit18_01scf10_ex04prb/"
   ]
  },
  {
   "cell_type": "markdown",
   "metadata": {},
   "source": [
    "### 问题\n",
    "- 函数连续，则 $\\lim_{x \\to 0^-}f(x)=\\lim_{x \\to 0^+}f(x)=f(0)$，可得 $b=0$  \n",
    "函数不可导，则在 0 点处 $sin2x$ 和 $ax+b$ 的导数不相等，由 $\\frac{d}{dx}sin2x|_{x=0} \\ne \\frac{d}{dx}(ax+b)|_{x=0}$ 得 $a \\ne 2cos(2 \\cdot 0)$，即 $a \\ne 2$  \n",
    "结论：当 $a \\ne 2$ 且 $b=0$ 时可以满足题目要求"
   ]
  }
 ],
 "metadata": {
  "language_info": {
   "name": "python"
  }
 },
 "nbformat": 4,
 "nbformat_minor": 2
}
