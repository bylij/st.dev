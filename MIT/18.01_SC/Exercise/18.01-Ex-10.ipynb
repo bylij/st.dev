{
 "cells": [
  {
   "cell_type": "markdown",
   "metadata": {},
   "source": [
    ">https://ocw.mit.edu/courses/18-01sc-single-variable-calculus-fall-2010/resources/mit18_01scf10_ex10prb/"
   ]
  },
  {
   "cell_type": "markdown",
   "metadata": {},
   "source": [
    "### 问题\n",
    "- a) $(\\frac{x^2}{x+1})^\\prime=\\frac{(x^2)^\\prime(x+1)-x^2 \\cdot (x+1)^\\prime}{(x+1)^2}=\\frac{2x(x+1)-x^2}{(x+1)^2}=\\frac{x^2+2x}{(x+1)^2}$，$x \\ne -1$\n",
    "- b) $(\\frac{x^4+1}{x^2})^\\prime=\\frac{(x^4+1)^\\prime x^2-(x^4+1)(x^2)^\\prime}{(x^2)^2}=\\frac{4x^3 \\cdot x^2 - (x^4+1) \\cdot 2x}{x^4}=\\frac{2x^5-2x}{x^4}$，$x \\ne 0$\n",
    "- c) $(\\frac{\\sin{x}}{x})^\\prime=\\frac{(\\sin{x})^\\prime x-\\sin{x} \\cdot (x)^\\prime}{x^2}=\\frac{\\cos{x} \\cdot x-\\sin{x} \\cdot 1}{x^2}=\\frac{x\\cos{x}-\\sin{x}}{x^2}$，$x \\ne 0$"
   ]
  }
 ],
 "metadata": {
  "language_info": {
   "name": "python"
  }
 },
 "nbformat": 4,
 "nbformat_minor": 2
}
